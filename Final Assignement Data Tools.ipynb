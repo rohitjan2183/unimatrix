{
  "metadata": {
    "language_info": {
      "codemirror_mode": {
        "name": "python",
        "version": 3
      },
      "file_extension": ".py",
      "mimetype": "text/x-python",
      "name": "python",
      "nbconvert_exporter": "python",
      "pygments_lexer": "ipython3",
      "version": "3.8"
    },
    "kernelspec": {
      "name": "python",
      "display_name": "Pyolite",
      "language": "python"
    }
  },
  "nbformat_minor": 4,
  "nbformat": 4,
  "cells": [
    {
      "cell_type": "markdown",
      "source": "# \"My Jupyter Notebook on IBM Watson Studio\" #",
      "metadata": {}
    },
    {
      "cell_type": "markdown",
      "source": "**Rohit Janardanan**",
      "metadata": {}
    },
    {
      "cell_type": "markdown",
      "source": "*Iam interested in Data Science because it is going to help me further develop my analytical and professional skills*.",
      "metadata": {}
    },
    {
      "cell_type": "markdown",
      "source": "### \"The Code below computes the sum of two variables\" ###",
      "metadata": {}
    },
    {
      "cell_type": "code",
      "source": "a=1\nb=3\nprint(a+b)",
      "metadata": {
        "trusted": true
      },
      "execution_count": 4,
      "outputs": [
        {
          "name": "stdout",
          "text": "4\n",
          "output_type": "stream"
        }
      ]
    },
    {
      "cell_type": "markdown",
      "source": "This is a `code` which is `higlihghted`.                                                                                                          \n[This link leads to homepage of Google](https://www.google.com \"Google's Homepage\")  \n\n\n\n  Name | Amount | \n--- | --- |\nMichael | 300 |\nCharlie| 400 |\nAmir| 200 |\n                                                                                                                   ",
      "metadata": {}
    },
    {
      "cell_type": "markdown",
      "source": "",
      "metadata": {}
    },
    {
      "cell_type": "code",
      "source": "",
      "metadata": {},
      "execution_count": null,
      "outputs": []
    }
  ]
}