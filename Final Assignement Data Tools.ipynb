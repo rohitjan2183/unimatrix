{
    "cells": [
        {
            "cell_type": "markdown",
            "metadata": {},
            "source": "# \"My Jupyter Notebook on IBM Watson Studio\" #"
        },
        {
            "cell_type": "markdown",
            "metadata": {},
            "source": "**Rohit Janardanan**                                                                                                                                \nDo not stop dreaming"
        },
        {
            "cell_type": "markdown",
            "metadata": {},
            "source": "*Iam interested in Data Science because it is going to help me further develop my analytical and professional skills*."
        },
        {
            "cell_type": "markdown",
            "metadata": {},
            "source": "### \"The Code below computes the sum of two variables\" ###"
        },
        {
            "cell_type": "code",
            "execution_count": 4,
            "metadata": {},
            "outputs": [
                {
                    "name": "stdout",
                    "output_type": "stream",
                    "text": "4\n"
                }
            ],
            "source": "a=1\nb=3\nprint(a+b)"
        },
        {
            "cell_type": "markdown",
            "metadata": {},
            "source": "This is a `code` which is `higlihghted`.                                                                                                          \n[This link leads to homepage of Google](https://www.google.com \"Google's Homepage\")  \n\n\n\n  Name | Amount | \n--- | --- |\nMichael | 300 |\nCharlie| 400 |\nAmir| 200 |\n                                                                                                                   "
        }
    ],
    "metadata": {
        "kernelspec": {
            "display_name": "Python 3.10",
            "language": "python",
            "name": "python3"
        },
        "language_info": {
            "codemirror_mode": {
                "name": "ipython",
                "version": 3
            },
            "file_extension": ".py",
            "mimetype": "text/x-python",
            "name": "python",
            "nbconvert_exporter": "python",
            "pygments_lexer": "ipython3",
            "version": "3.10.6"
        }
    },
    "nbformat": 4,
    "nbformat_minor": 4
}